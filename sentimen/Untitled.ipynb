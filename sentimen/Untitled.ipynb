{
 "cells": [
  {
   "cell_type": "code",
   "execution_count": 2,
   "id": "ced56b27-1851-4be0-98e2-c543f2d45081",
   "metadata": {},
   "outputs": [
    {
     "name": "stdout",
     "output_type": "stream",
     "text": [
      "✅ Dataset 'sentiment_budaya_dataset.csv' berhasil dibuat dengan 2000 cerita budaya.\n"
     ]
    }
   ],
   "source": [
    "import random\n",
    "import csv\n",
    "\n",
    "# Frasa cerita budaya bernuansa positif\n",
    "positive_culture_phrases = [\n",
    "    \"Upacara adat itu begitu sakral dan menghangatkan hati\",\n",
    "    \"Tari tradisional daerah ini memukau semua penonton\",\n",
    "    \"Kuliner khas desa kami diwariskan turun-temurun dan sangat lezat\",\n",
    "    \"Anak-anak muda mulai mencintai budaya leluhur mereka\",\n",
    "    \"Festival budaya diadakan dengan meriah setiap tahun\",\n",
    "    \"Kain tenun buatan nenek menjadi simbol kebanggaan desa\",\n",
    "    \"Lagu daerah dinyanyikan dengan penuh semangat\",\n",
    "    \"Batik lokal mendapat pengakuan internasional\",\n",
    "    \"Cerita rakyat masih diceritakan setiap malam di rumah nenek\",\n",
    "    \"Orang-orang berkumpul untuk gotong royong membangun rumah adat\"\n",
    "]\n",
    "\n",
    "# Frasa cerita budaya bernuansa negatif\n",
    "negative_culture_phrases = [\n",
    "    \"Anak muda kini tak lagi mengenal tarian tradisional\",\n",
    "    \"Warisan leluhur mulai dilupakan oleh generasi sekarang\",\n",
    "    \"Museum desa sepi dan tidak terawat\",\n",
    "    \"Pencurian artefak budaya terjadi di situs bersejarah\",\n",
    "    \"Tradisi lama dianggap kuno dan ditinggalkan\",\n",
    "    \"Kesenian daerah hampir punah tanpa penerus\",\n",
    "    \"Cerita rakyat digantikan oleh tayangan luar negeri\",\n",
    "    \"Pakaian adat jarang dipakai kecuali saat upacara\",\n",
    "    \"Lahan cagar budaya dijadikan kawasan industri\",\n",
    "    \"Orang malu memakai bahasa daerah di depan umum\"\n",
    "]\n",
    "\n",
    "# Fungsi buat kalimat cerita budaya\n",
    "def generate_culture_story(sentiment):\n",
    "    base = random.choice(positive_culture_phrases if sentiment == 1 else negative_culture_phrases)\n",
    "    extension = \" dan \" + random.choice(positive_culture_phrases if sentiment == 1 else negative_culture_phrases).lower()\n",
    "    return base + extension + \".\"\n",
    "\n",
    "# Generate data\n",
    "data = []\n",
    "for _ in range(1000):\n",
    "    data.append([generate_culture_story(1), 1])  # positif\n",
    "    data.append([generate_culture_story(0), 0])  # negatif\n",
    "\n",
    "# Acak urutan cerita\n",
    "random.shuffle(data)\n",
    "\n",
    "# Simpan ke CSV\n",
    "with open(\"sentiment_budaya_dataset.csv\", \"w\", newline=\"\", encoding=\"utf-8\") as f:\n",
    "    writer = csv.writer(f)\n",
    "    writer.writerow([\"story\", \"label\"])\n",
    "    writer.writerows(data)\n",
    "\n",
    "print(\"✅ Dataset 'sentiment_budaya_dataset.csv' berhasil dibuat dengan 2000 cerita budaya.\")\n"
   ]
  },
  {
   "cell_type": "code",
   "execution_count": null,
   "id": "34427336-cf4c-4c85-bc90-8c7b13b1855d",
   "metadata": {},
   "outputs": [],
   "source": []
  }
 ],
 "metadata": {
  "kernelspec": {
   "display_name": "Python 3 (ipykernel)",
   "language": "python",
   "name": "python3"
  },
  "language_info": {
   "codemirror_mode": {
    "name": "ipython",
    "version": 3
   },
   "file_extension": ".py",
   "mimetype": "text/x-python",
   "name": "python",
   "nbconvert_exporter": "python",
   "pygments_lexer": "ipython3",
   "version": "3.10.0"
  }
 },
 "nbformat": 4,
 "nbformat_minor": 5
}
