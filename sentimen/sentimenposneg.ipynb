{
 "cells": [
  {
   "cell_type": "code",
   "execution_count": 9,
   "id": "df6a73b5-90fd-447e-9f59-046860b95a83",
   "metadata": {},
   "outputs": [
    {
     "name": "stdout",
     "output_type": "stream",
     "text": [
      "WARNING:tensorflow:From C:\\Users\\fatta\\AppData\\Local\\Programs\\Python\\Python310\\lib\\site-packages\\keras\\src\\losses.py:2976: The name tf.losses.sparse_softmax_cross_entropy is deprecated. Please use tf.compat.v1.losses.sparse_softmax_cross_entropy instead.\n",
      "\n"
     ]
    }
   ],
   "source": [
    "import pandas as pd\n",
    "from sklearn.model_selection import train_test_split\n",
    "from sklearn.preprocessing import LabelEncoder\n",
    "from tensorflow.keras.models import Sequential\n",
    "from tensorflow.keras.layers import Dense, Embedding, GlobalAveragePooling1D\n",
    "from tensorflow.keras.preprocessing.text import Tokenizer\n",
    "from tensorflow.keras.preprocessing.sequence import pad_sequences\n",
    "from tensorflow.keras.utils import to_categorical\n",
    "from tensorflow.keras.models import load_model"
   ]
  },
  {
   "cell_type": "code",
   "execution_count": 10,
   "id": "12b5b5de-63f7-4122-9d6b-76c7dc99cbb1",
   "metadata": {},
   "outputs": [],
   "source": [
    "# 1. Baca dataset dari CSV\n",
    "df = pd.read_csv(\"sentiment_budaya_dataset.csv\") "
   ]
  },
  {
   "cell_type": "code",
   "execution_count": 11,
   "id": "d287c541-9443-443f-ba7f-7a43d90ee7a3",
   "metadata": {},
   "outputs": [],
   "source": [
    "# 2. Preprocessing teks\n",
    "tokenizer = Tokenizer(num_words=5000, oov_token=\"<OOV>\")\n",
    "tokenizer.fit_on_texts(df['story'])"
   ]
  },
  {
   "cell_type": "code",
   "execution_count": 12,
   "id": "06ac8f36-a665-467d-8cf5-6fa2197a816a",
   "metadata": {},
   "outputs": [],
   "source": [
    "sequences = tokenizer.texts_to_sequences(df['story'])\n",
    "X = pad_sequences(sequences, maxlen=100)  # Bisa disesuaikan"
   ]
  },
  {
   "cell_type": "code",
   "execution_count": 13,
   "id": "bd1a6485-86fd-4b56-967c-bf70d2d23f3b",
   "metadata": {},
   "outputs": [],
   "source": [
    "# 3. Label ke bentuk one-hot encoding\n",
    "y = to_categorical(df['label'], num_classes=2)"
   ]
  },
  {
   "cell_type": "code",
   "execution_count": 14,
   "id": "890f75a7-fe8b-44d5-8298-b5219f8c5a02",
   "metadata": {},
   "outputs": [],
   "source": [
    "# 4. Split data\n",
    "X_train, X_test, y_train, y_test = train_test_split(X, y, test_size=0.2, random_state=42)\n"
   ]
  },
  {
   "cell_type": "code",
   "execution_count": 16,
   "id": "60ac3e83-f075-4e17-94c2-aeb0426c29ff",
   "metadata": {},
   "outputs": [
    {
     "name": "stdout",
     "output_type": "stream",
     "text": [
      "WARNING:tensorflow:From C:\\Users\\fatta\\AppData\\Local\\Programs\\Python\\Python310\\lib\\site-packages\\keras\\src\\optimizers\\__init__.py:309: The name tf.train.Optimizer is deprecated. Please use tf.compat.v1.train.Optimizer instead.\n",
      "\n"
     ]
    }
   ],
   "source": [
    "# 5. Bangun model Keras\n",
    "model = Sequential([\n",
    "    Embedding(input_dim=5000, output_dim=16, input_length=100),\n",
    "    GlobalAveragePooling1D(),\n",
    "    Dense(16, activation='relu'),\n",
    "    Dense(2, activation='softmax')  # 2 kelas: positif & negatif\n",
    "])\n",
    "model.compile(loss='categorical_crossentropy', optimizer='adam', metrics=['accuracy'])\n"
   ]
  },
  {
   "cell_type": "code",
   "execution_count": 18,
   "id": "36646bc0-919c-4194-8bd1-43c5ca17acdc",
   "metadata": {},
   "outputs": [
    {
     "name": "stdout",
     "output_type": "stream",
     "text": [
      "Epoch 1/10\n",
      "45/45 [==============================] - 0s 7ms/step - loss: 0.0192 - accuracy: 1.0000 - val_loss: 0.0170 - val_accuracy: 1.0000\n",
      "Epoch 2/10\n",
      "45/45 [==============================] - 0s 6ms/step - loss: 0.0145 - accuracy: 1.0000 - val_loss: 0.0131 - val_accuracy: 1.0000\n",
      "Epoch 3/10\n",
      "45/45 [==============================] - 0s 6ms/step - loss: 0.0113 - accuracy: 1.0000 - val_loss: 0.0103 - val_accuracy: 1.0000\n",
      "Epoch 4/10\n",
      "45/45 [==============================] - 0s 6ms/step - loss: 0.0091 - accuracy: 1.0000 - val_loss: 0.0084 - val_accuracy: 1.0000\n",
      "Epoch 5/10\n",
      "45/45 [==============================] - 0s 6ms/step - loss: 0.0074 - accuracy: 1.0000 - val_loss: 0.0069 - val_accuracy: 1.0000\n",
      "Epoch 6/10\n",
      "45/45 [==============================] - 0s 5ms/step - loss: 0.0062 - accuracy: 1.0000 - val_loss: 0.0058 - val_accuracy: 1.0000\n",
      "Epoch 7/10\n",
      "45/45 [==============================] - 0s 4ms/step - loss: 0.0052 - accuracy: 1.0000 - val_loss: 0.0050 - val_accuracy: 1.0000\n",
      "Epoch 8/10\n",
      "45/45 [==============================] - 0s 4ms/step - loss: 0.0045 - accuracy: 1.0000 - val_loss: 0.0043 - val_accuracy: 1.0000\n",
      "Epoch 9/10\n",
      "45/45 [==============================] - 0s 4ms/step - loss: 0.0039 - accuracy: 1.0000 - val_loss: 0.0037 - val_accuracy: 1.0000\n",
      "Epoch 10/10\n",
      "45/45 [==============================] - 0s 4ms/step - loss: 0.0034 - accuracy: 1.0000 - val_loss: 0.0033 - val_accuracy: 1.0000\n"
     ]
    },
    {
     "data": {
      "text/plain": [
       "<keras.src.callbacks.History at 0x2acd5e8cdc0>"
      ]
     },
     "execution_count": 18,
     "metadata": {},
     "output_type": "execute_result"
    }
   ],
   "source": [
    "# 6. Training model\n",
    "model.fit(X_train, y_train, epochs=10, batch_size=32, validation_split=0.1, verbose=1)"
   ]
  },
  {
   "cell_type": "code",
   "execution_count": 19,
   "id": "7c9a9330-530e-4a94-8942-9a30f48a47c6",
   "metadata": {},
   "outputs": [
    {
     "name": "stdout",
     "output_type": "stream",
     "text": [
      "✅ Akurasi: 1.00\n"
     ]
    }
   ],
   "source": [
    "# 7. Evaluasi model\n",
    "loss, acc = model.evaluate(X_test, y_test, verbose=0)\n",
    "print(f\"✅ Akurasi: {acc:.2f}\")"
   ]
  },
  {
   "cell_type": "code",
   "execution_count": 20,
   "id": "ceea2df4-38b2-4ac0-8297-4256fdaf2c76",
   "metadata": {},
   "outputs": [
    {
     "name": "stdout",
     "output_type": "stream",
     "text": [
      "✅ Model disimpan sebagai 'sentiment_model.h5'\n"
     ]
    },
    {
     "name": "stderr",
     "output_type": "stream",
     "text": [
      "C:\\Users\\fatta\\AppData\\Local\\Programs\\Python\\Python310\\lib\\site-packages\\keras\\src\\engine\\training.py:3103: UserWarning: You are saving your model as an HDF5 file via `model.save()`. This file format is considered legacy. We recommend using instead the native Keras format, e.g. `model.save('my_model.keras')`.\n",
      "  saving_api.save_model(\n"
     ]
    }
   ],
   "source": [
    "# 8. Simpan model ke file .h5\n",
    "model.save(\"sentiment_model.h5\")\n",
    "print(\"✅ Model disimpan sebagai 'sentiment_model.h5'\")"
   ]
  },
  {
   "cell_type": "code",
   "execution_count": 24,
   "id": "5e4b0aec-c308-4eca-9083-ee316f64535b",
   "metadata": {},
   "outputs": [],
   "source": [
    "def predict_sentiment(text):\n",
    "    model = load_model(\"sentiment_model.h5\")\n",
    "    seq = tokenizer.texts_to_sequences([text])\n",
    "    padded = pad_sequences(seq, maxlen=100)\n",
    "    probas = model.predict(padded)[0]\n",
    "\n",
    "    percent_negatif = probas[0] * 100\n",
    "    percent_positif = probas[1] * 100\n",
    "\n",
    "    label = probas.argmax()\n",
    "    sentiment = \"Positif\" if label == 1 else \"Negatif\"\n",
    "\n",
    "    print(f\"Negatif: {percent_negatif:.2f}%, Positif: {percent_positif:.2f}%\")\n",
    "    return sentiment\n"
   ]
  },
  {
   "cell_type": "code",
   "execution_count": 27,
   "id": "7574f770-84b3-4959-bce4-ee32acc5f6af",
   "metadata": {},
   "outputs": [
    {
     "name": "stdout",
     "output_type": "stream",
     "text": [
      "WARNING:tensorflow:6 out of the last 6 calls to <function Model.make_predict_function.<locals>.predict_function at 0x000002ACD5DC2560> triggered tf.function retracing. Tracing is expensive and the excessive number of tracings could be due to (1) creating @tf.function repeatedly in a loop, (2) passing tensors with different shapes, (3) passing Python objects instead of tensors. For (1), please define your @tf.function outside of the loop. For (2), @tf.function has reduce_retracing=True option that can avoid unnecessary retracing. For (3), please refer to https://www.tensorflow.org/guide/function#controlling_retracing and https://www.tensorflow.org/api_docs/python/tf/function for  more details.\n",
      "1/1 [==============================] - 0s 106ms/step\n",
      "Negatif: 23.57%, Positif: 76.43%\n",
      "Prediksi Sentimen: Positif\n"
     ]
    }
   ],
   "source": [
    "story_input = \"nuansanya sangat bagus sekali saya sangat suka sekali dengan budaya yang ada disini.\"\n",
    "hasil = predict_sentiment(story_input)\n",
    "print(f\"Prediksi Sentimen: {hasil}\")\n"
   ]
  },
  {
   "cell_type": "code",
   "execution_count": null,
   "id": "aba142ab-dc2c-4690-8444-fa8908868d41",
   "metadata": {},
   "outputs": [],
   "source": []
  }
 ],
 "metadata": {
  "kernelspec": {
   "display_name": "Python 3 (ipykernel)",
   "language": "python",
   "name": "python3"
  },
  "language_info": {
   "codemirror_mode": {
    "name": "ipython",
    "version": 3
   },
   "file_extension": ".py",
   "mimetype": "text/x-python",
   "name": "python",
   "nbconvert_exporter": "python",
   "pygments_lexer": "ipython3",
   "version": "3.10.0"
  }
 },
 "nbformat": 4,
 "nbformat_minor": 5
}
